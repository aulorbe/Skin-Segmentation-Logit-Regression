{
 "cells": [
  {
   "cell_type": "markdown",
   "metadata": {},
   "source": [
    "# Skin Segmentation Logistic Regression Notebook"
   ]
  },
  {
   "cell_type": "markdown",
   "metadata": {},
   "source": [
    "## Problem Statement"
   ]
  },
  {
   "cell_type": "code",
   "execution_count": null,
   "metadata": {},
   "outputs": [],
   "source": []
  },
  {
   "cell_type": "code",
   "execution_count": null,
   "metadata": {},
   "outputs": [],
   "source": []
  },
  {
   "cell_type": "markdown",
   "metadata": {},
   "source": [
    "## Loading & Cleaning Our Data"
   ]
  },
  {
   "cell_type": "code",
   "execution_count": 64,
   "metadata": {},
   "outputs": [
    {
     "data": {
      "text/html": [
       "<div>\n",
       "<style scoped>\n",
       "    .dataframe tbody tr th:only-of-type {\n",
       "        vertical-align: middle;\n",
       "    }\n",
       "\n",
       "    .dataframe tbody tr th {\n",
       "        vertical-align: top;\n",
       "    }\n",
       "\n",
       "    .dataframe thead th {\n",
       "        text-align: right;\n",
       "    }\n",
       "</style>\n",
       "<table border=\"1\" class=\"dataframe\">\n",
       "  <thead>\n",
       "    <tr style=\"text-align: right;\">\n",
       "      <th></th>\n",
       "      <th>0</th>\n",
       "      <th>1</th>\n",
       "      <th>2</th>\n",
       "      <th>3</th>\n",
       "    </tr>\n",
       "  </thead>\n",
       "  <tbody>\n",
       "    <tr>\n",
       "      <th>0</th>\n",
       "      <td>74</td>\n",
       "      <td>85</td>\n",
       "      <td>123</td>\n",
       "      <td>1</td>\n",
       "    </tr>\n",
       "    <tr>\n",
       "      <th>1</th>\n",
       "      <td>73</td>\n",
       "      <td>84</td>\n",
       "      <td>122</td>\n",
       "      <td>1</td>\n",
       "    </tr>\n",
       "    <tr>\n",
       "      <th>2</th>\n",
       "      <td>72</td>\n",
       "      <td>83</td>\n",
       "      <td>121</td>\n",
       "      <td>1</td>\n",
       "    </tr>\n",
       "    <tr>\n",
       "      <th>3</th>\n",
       "      <td>70</td>\n",
       "      <td>81</td>\n",
       "      <td>119</td>\n",
       "      <td>1</td>\n",
       "    </tr>\n",
       "    <tr>\n",
       "      <th>4</th>\n",
       "      <td>70</td>\n",
       "      <td>81</td>\n",
       "      <td>119</td>\n",
       "      <td>1</td>\n",
       "    </tr>\n",
       "  </tbody>\n",
       "</table>\n",
       "</div>"
      ],
      "text/plain": [
       "    0   1    2  3\n",
       "0  74  85  123  1\n",
       "1  73  84  122  1\n",
       "2  72  83  121  1\n",
       "3  70  81  119  1\n",
       "4  70  81  119  1"
      ]
     },
     "execution_count": 64,
     "metadata": {},
     "output_type": "execute_result"
    }
   ],
   "source": [
    "# Importing the Pandas library w/the alias \"pd\" for easier coding.\n",
    "# Setting the URL variable equal to the URL at which my dataset is located.\n",
    "# Reading the dataset into a variable called df with the use of Pandas, thereby creating a dataframe out of it.\n",
    "# Inspecting the first five rows of df.\n",
    "\n",
    "import pandas as pd\n",
    "\n",
    "url = 'http://archive.ics.uci.edu/ml/machine-learning-databases/00229/Skin_NonSkin.txt'\n",
    "\n",
    "df = pd.read_csv(url, sep = '\\s+', header=None) # using whitespace as my separator\n",
    "\n",
    "df.head()"
   ]
  },
  {
   "cell_type": "markdown",
   "metadata": {},
   "source": [
    "- Below, we rename the columns to what they should be."
   ]
  },
  {
   "cell_type": "code",
   "execution_count": 65,
   "metadata": {},
   "outputs": [
    {
     "data": {
      "text/html": [
       "<div>\n",
       "<style scoped>\n",
       "    .dataframe tbody tr th:only-of-type {\n",
       "        vertical-align: middle;\n",
       "    }\n",
       "\n",
       "    .dataframe tbody tr th {\n",
       "        vertical-align: top;\n",
       "    }\n",
       "\n",
       "    .dataframe thead th {\n",
       "        text-align: right;\n",
       "    }\n",
       "</style>\n",
       "<table border=\"1\" class=\"dataframe\">\n",
       "  <thead>\n",
       "    <tr style=\"text-align: right;\">\n",
       "      <th></th>\n",
       "      <th>B</th>\n",
       "      <th>G</th>\n",
       "      <th>R</th>\n",
       "      <th>Skin or No-Skin</th>\n",
       "    </tr>\n",
       "  </thead>\n",
       "  <tbody>\n",
       "    <tr>\n",
       "      <th>0</th>\n",
       "      <td>74</td>\n",
       "      <td>85</td>\n",
       "      <td>123</td>\n",
       "      <td>1</td>\n",
       "    </tr>\n",
       "    <tr>\n",
       "      <th>1</th>\n",
       "      <td>73</td>\n",
       "      <td>84</td>\n",
       "      <td>122</td>\n",
       "      <td>1</td>\n",
       "    </tr>\n",
       "    <tr>\n",
       "      <th>2</th>\n",
       "      <td>72</td>\n",
       "      <td>83</td>\n",
       "      <td>121</td>\n",
       "      <td>1</td>\n",
       "    </tr>\n",
       "    <tr>\n",
       "      <th>3</th>\n",
       "      <td>70</td>\n",
       "      <td>81</td>\n",
       "      <td>119</td>\n",
       "      <td>1</td>\n",
       "    </tr>\n",
       "    <tr>\n",
       "      <th>4</th>\n",
       "      <td>70</td>\n",
       "      <td>81</td>\n",
       "      <td>119</td>\n",
       "      <td>1</td>\n",
       "    </tr>\n",
       "  </tbody>\n",
       "</table>\n",
       "</div>"
      ],
      "text/plain": [
       "    B   G    R  Skin or No-Skin\n",
       "0  74  85  123                1\n",
       "1  73  84  122                1\n",
       "2  72  83  121                1\n",
       "3  70  81  119                1\n",
       "4  70  81  119                1"
      ]
     },
     "execution_count": 65,
     "metadata": {},
     "output_type": "execute_result"
    }
   ],
   "source": [
    "df = df.rename(columns = {0:'B', 1: 'G', 2: 'R', 3: 'Skin or No-Skin'})\n",
    "df.head()"
   ]
  },
  {
   "cell_type": "markdown",
   "metadata": {},
   "source": [
    "## Exploring Target Variable & Evaluating Class Balance"
   ]
  },
  {
   "cell_type": "markdown",
   "metadata": {},
   "source": [
    "- Let's now let's dive a bit deeper into our target variable (or \"outcome variable\"), i.e. the last column of our dataframe."
   ]
  },
  {
   "cell_type": "code",
   "execution_count": 66,
   "metadata": {},
   "outputs": [
    {
     "name": "stdout",
     "output_type": "stream",
     "text": [
      "2    194198\n",
      "1     50859\n",
      "Name: Skin or No-Skin, dtype: int64\n",
      "2    0.792461\n",
      "1    0.207539\n",
      "Name: Skin or No-Skin, dtype: float64\n"
     ]
    }
   ],
   "source": [
    "print(df['Skin or No-Skin'].value_counts())\n",
    "print(df['Skin or No-Skin'].value_counts(normalize=True))"
   ]
  },
  {
   "cell_type": "markdown",
   "metadata": {},
   "source": [
    "- From the value_counts() readout above, you can see that our outcome variable is binary (meaning that it contains 1s and 2s). \n",
    "- From our dataset's description ([here](https://archive.ics.uci.edu/ml/datasets/Skin+Segmentation)), we know that the skin samples total 50,859 in number, while the no-skin samples total 194,198. So, here **1s are skin-pixels and 2 are no-skin pixels.**\n",
    "- We can see in the normalized readout (the 2nd one, showing the percentages of the total that each label makes up) that our dataset is pretty imbalanced: about 79% of our pixels are classified as no-skin while only about 21% of our pixels are classified as skin. While this might seem imbalanced, in data-science circles this type of imbalance is perfectly acceptable; if we had a split along the lines of 99% v 1%, then we might consider using methods like SMOTE to balance our data out. (For more on SMOTE, I recommend checking out Nick Becker states in his blog post \"[The Right Way to Oversample](https://beckernick.github.io/oversampling-modeling/))"
   ]
  },
  {
   "cell_type": "markdown",
   "metadata": {},
   "source": [
    "## Preparing Data for Modeling"
   ]
  },
  {
   "cell_type": "code",
   "execution_count": 67,
   "metadata": {},
   "outputs": [],
   "source": [
    "# assigning our target variable to \"y\"\n",
    "\n",
    "y = df['Skin or No-Skin']"
   ]
  },
  {
   "cell_type": "code",
   "execution_count": 68,
   "metadata": {},
   "outputs": [
    {
     "data": {
      "text/html": [
       "<div>\n",
       "<style scoped>\n",
       "    .dataframe tbody tr th:only-of-type {\n",
       "        vertical-align: middle;\n",
       "    }\n",
       "\n",
       "    .dataframe tbody tr th {\n",
       "        vertical-align: top;\n",
       "    }\n",
       "\n",
       "    .dataframe thead th {\n",
       "        text-align: right;\n",
       "    }\n",
       "</style>\n",
       "<table border=\"1\" class=\"dataframe\">\n",
       "  <thead>\n",
       "    <tr style=\"text-align: right;\">\n",
       "      <th></th>\n",
       "      <th>B</th>\n",
       "      <th>G</th>\n",
       "      <th>R</th>\n",
       "    </tr>\n",
       "  </thead>\n",
       "  <tbody>\n",
       "    <tr>\n",
       "      <th>0</th>\n",
       "      <td>74</td>\n",
       "      <td>85</td>\n",
       "      <td>123</td>\n",
       "    </tr>\n",
       "    <tr>\n",
       "      <th>1</th>\n",
       "      <td>73</td>\n",
       "      <td>84</td>\n",
       "      <td>122</td>\n",
       "    </tr>\n",
       "    <tr>\n",
       "      <th>2</th>\n",
       "      <td>72</td>\n",
       "      <td>83</td>\n",
       "      <td>121</td>\n",
       "    </tr>\n",
       "    <tr>\n",
       "      <th>3</th>\n",
       "      <td>70</td>\n",
       "      <td>81</td>\n",
       "      <td>119</td>\n",
       "    </tr>\n",
       "    <tr>\n",
       "      <th>4</th>\n",
       "      <td>70</td>\n",
       "      <td>81</td>\n",
       "      <td>119</td>\n",
       "    </tr>\n",
       "  </tbody>\n",
       "</table>\n",
       "</div>"
      ],
      "text/plain": [
       "    B   G    R\n",
       "0  74  85  123\n",
       "1  73  84  122\n",
       "2  72  83  121\n",
       "3  70  81  119\n",
       "4  70  81  119"
      ]
     },
     "execution_count": 68,
     "metadata": {},
     "output_type": "execute_result"
    }
   ],
   "source": [
    "# creating a dataframe for our x-variables, making sure to drop null values\n",
    "\n",
    "X = df.iloc[:,:-1].dropna()\n",
    "X.head()"
   ]
  },
  {
   "cell_type": "code",
   "execution_count": 69,
   "metadata": {},
   "outputs": [
    {
     "data": {
      "text/plain": [
       "array([[<matplotlib.axes._subplots.AxesSubplot object at 0x1142a0898>,\n",
       "        <matplotlib.axes._subplots.AxesSubplot object at 0x123f164e0>],\n",
       "       [<matplotlib.axes._subplots.AxesSubplot object at 0x123f3fb70>,\n",
       "        <matplotlib.axes._subplots.AxesSubplot object at 0x123f71240>]],\n",
       "      dtype=object)"
      ]
     },
     "execution_count": 69,
     "metadata": {},
     "output_type": "execute_result"
    },
    {
     "data": {
      "image/png": "[encoded data removed]",
      "text/plain": [
       "<Figure size 432x288 with 4 Axes>"
      ]
     },
     "metadata": {},
     "output_type": "display_data"
    }
   ],
   "source": [
    "# Let's quickly inspect the distributions of our independent variables\n",
    "# Since we're doing logit regression, we don't need to normalize or scale them, but it's nice to explore their distributions\n",
    "\n",
    "X.hist()"
   ]
  },
  {
   "cell_type": "markdown",
   "metadata": {},
   "source": [
    "- To run machine learning models of any kind, you always need to split your data into a training set and a test set. You will use your training set to train your model, and then test out how well your model is classifying values on your test data.\n",
    "- Here, we use sklearn's train_test_split function to get an 80/20 split between our train/test data for our X and y values.\n",
    "- (After this step is when we will balance our target variable.)"
   ]
  },
  {
   "cell_type": "code",
   "execution_count": 104,
   "metadata": {},
   "outputs": [],
   "source": [
    "# split my data into test and train datasets\n",
    "\n",
    "from sklearn.model_selection import train_test_split\n",
    "\n",
    "X_train, X_test, y_train, y_test = train_test_split(X, y, test_size = 0.2, random_state=0)\n"
   ]
  },
  {
   "cell_type": "markdown",
   "metadata": {},
   "source": [
    "## Modeling with SciKit Learn"
   ]
  },
  {
   "cell_type": "markdown",
   "metadata": {},
   "source": [
    "- While you could run a logistic regression model manually, it's much easier to use sklearn's built-in Logistic Regression class.\n",
    "- Here, we are instantiating a Logistic Regression object (without an intercept just to keep things easy, and a C parameter of something super, super small in order to reduce overfitting) called logreg (see [here](https://stackoverflow.com/questions/22851316/what-is-the-inverse-of-regularization-strength-in-logistic-regression-how-shoul) for more info on C-parameters)\n",
    "- We then fit our model to our training data and assign it a variable named model_log\n"
   ]
  },
  {
   "cell_type": "code",
   "execution_count": 131,
   "metadata": {},
   "outputs": [
    {
     "name": "stderr",
     "output_type": "stream",
     "text": [
      "/Users/flatironschool/anaconda3/lib/python3.6/site-packages/sklearn/linear_model/logistic.py:433: FutureWarning: Default solver will be changed to 'lbfgs' in 0.22. Specify a solver to silence this warning.\n",
      "  FutureWarning)\n"
     ]
    },
    {
     "name": "stdout",
     "output_type": "stream",
     "text": [
      "TRAINING RESULTS\n",
      "Accuracy Score: 0.91\n",
      "Recall: 0.84\n",
      "F-1 Score: 0.79\n",
      "R-Squared: 0.43\n",
      "Precision: 0.74\n",
      "Recall: 0.84\n",
      "MSE: 0.09\n",
      "\n",
      "TEST RESULTS\n",
      "Accuracy Score: 0.91\n",
      "Recall: 0.84\n",
      "F-1 Score: 0.79\n",
      "R-Squared: 0.43\n",
      "Precision: 0.74\n",
      "Recall: 0.84\n",
      "MSE: 0.09\n"
     ]
    }
   ],
   "source": [
    "# Instantiating estimator\n",
    "logreg = LogisticRegression(fit_intercept = False, C = 1e12)\n",
    "\n",
    "# Creating logit reg model, fitting to training data\n",
    "model_log = logreg.fit(X_train, y_train)\n",
    "\n",
    "# Making predictions using training data & test data\n",
    "y_hat_train = logreg.predict(X_train)\n",
    "y_hat_test = logreg.predict(X_test)\n",
    "\n",
    "from sklearn.metrics import *\n",
    "\n",
    "print ('TRAINING RESULTS')\n",
    "print (f'Accuracy Score: {round(model_log.score(X_train, y_train),2)}')\n",
    "print (f'Recall: {round(recall_score(y_train, y_hat_train),2)}')\n",
    "print (f'F-1 Score: {round(f1_score(y_train, y_hat_train),2)}')\n",
    "print (f'R-Squared: {round(r2_score(y_train, y_hat_train),2)}')\n",
    "print (f'Precision: {round(precision_score(y_train, y_hat_train),2)}')\n",
    "print (f'Recall: {round(recall_score(y_train, y_hat_train),2)}')\n",
    "print (f'MSE: {round(mean_squared_error(y_train, y_hat_train),2)}')\n",
    "\n",
    "print ('\\nTEST RESULTS')\n",
    "print (f'Accuracy Score: {round(model_log.score(X_test, y_test),2)}')\n",
    "print (f'Recall: {round(recall_score(y_test, y_hat_test),2)}')\n",
    "print (f'F-1 Score: {round(f1_score(y_test, y_hat_test),2)}')\n",
    "print (f'R-Squared: {round(r2_score(y_test, y_hat_test),2)}')\n",
    "print (f'Precision: {round(precision_score(y_test, y_hat_test),2)}')\n",
    "print (f'Recall: {round(recall_score(y_test, y_hat_test),2)}')\n",
    "print (f'MSE: {round(mean_squared_error(y_test, y_hat_test),2)}')\n",
    "\n"
   ]
  },
  {
   "cell_type": "markdown",
   "metadata": {},
   "source": [
    "## Evaluating Model Performance Using K-Fold Cross-Validation"
   ]
  },
  {
   "cell_type": "code",
   "execution_count": 136,
   "metadata": {},
   "outputs": [
    {
     "name": "stderr",
     "output_type": "stream",
     "text": [
      "/Users/flatironschool/anaconda3/lib/python3.6/site-packages/sklearn/linear_model/logistic.py:433: FutureWarning: Default solver will be changed to 'lbfgs' in 0.22. Specify a solver to silence this warning.\n",
      "  FutureWarning)\n",
      "/Users/flatironschool/anaconda3/lib/python3.6/site-packages/sklearn/linear_model/logistic.py:433: FutureWarning: Default solver will be changed to 'lbfgs' in 0.22. Specify a solver to silence this warning.\n",
      "  FutureWarning)\n",
      "/Users/flatironschool/anaconda3/lib/python3.6/site-packages/sklearn/linear_model/logistic.py:433: FutureWarning: Default solver will be changed to 'lbfgs' in 0.22. Specify a solver to silence this warning.\n",
      "  FutureWarning)\n",
      "/Users/flatironschool/anaconda3/lib/python3.6/site-packages/sklearn/linear_model/logistic.py:433: FutureWarning: Default solver will be changed to 'lbfgs' in 0.22. Specify a solver to silence this warning.\n",
      "  FutureWarning)\n",
      "/Users/flatironschool/anaconda3/lib/python3.6/site-packages/sklearn/linear_model/logistic.py:433: FutureWarning: Default solver will be changed to 'lbfgs' in 0.22. Specify a solver to silence this warning.\n",
      "  FutureWarning)\n",
      "/Users/flatironschool/anaconda3/lib/python3.6/site-packages/sklearn/linear_model/logistic.py:433: FutureWarning: Default solver will be changed to 'lbfgs' in 0.22. Specify a solver to silence this warning.\n",
      "  FutureWarning)\n",
      "/Users/flatironschool/anaconda3/lib/python3.6/site-packages/sklearn/linear_model/logistic.py:433: FutureWarning: Default solver will be changed to 'lbfgs' in 0.22. Specify a solver to silence this warning.\n",
      "  FutureWarning)\n",
      "/Users/flatironschool/anaconda3/lib/python3.6/site-packages/sklearn/linear_model/logistic.py:433: FutureWarning: Default solver will be changed to 'lbfgs' in 0.22. Specify a solver to silence this warning.\n",
      "  FutureWarning)\n",
      "/Users/flatironschool/anaconda3/lib/python3.6/site-packages/sklearn/linear_model/logistic.py:433: FutureWarning: Default solver will be changed to 'lbfgs' in 0.22. Specify a solver to silence this warning.\n",
      "  FutureWarning)\n",
      "/Users/flatironschool/anaconda3/lib/python3.6/site-packages/sklearn/linear_model/logistic.py:433: FutureWarning: Default solver will be changed to 'lbfgs' in 0.22. Specify a solver to silence this warning.\n",
      "  FutureWarning)\n",
      "/Users/flatironschool/anaconda3/lib/python3.6/site-packages/sklearn/linear_model/logistic.py:433: FutureWarning: Default solver will be changed to 'lbfgs' in 0.22. Specify a solver to silence this warning.\n",
      "  FutureWarning)\n",
      "/Users/flatironschool/anaconda3/lib/python3.6/site-packages/sklearn/linear_model/logistic.py:433: FutureWarning: Default solver will be changed to 'lbfgs' in 0.22. Specify a solver to silence this warning.\n",
      "  FutureWarning)\n",
      "/Users/flatironschool/anaconda3/lib/python3.6/site-packages/sklearn/linear_model/logistic.py:433: FutureWarning: Default solver will be changed to 'lbfgs' in 0.22. Specify a solver to silence this warning.\n",
      "  FutureWarning)\n",
      "/Users/flatironschool/anaconda3/lib/python3.6/site-packages/sklearn/linear_model/logistic.py:433: FutureWarning: Default solver will be changed to 'lbfgs' in 0.22. Specify a solver to silence this warning.\n",
      "  FutureWarning)\n",
      "/Users/flatironschool/anaconda3/lib/python3.6/site-packages/sklearn/linear_model/logistic.py:433: FutureWarning: Default solver will be changed to 'lbfgs' in 0.22. Specify a solver to silence this warning.\n",
      "  FutureWarning)\n",
      "/Users/flatironschool/anaconda3/lib/python3.6/site-packages/sklearn/linear_model/logistic.py:433: FutureWarning: Default solver will be changed to 'lbfgs' in 0.22. Specify a solver to silence this warning.\n",
      "  FutureWarning)\n",
      "/Users/flatironschool/anaconda3/lib/python3.6/site-packages/sklearn/linear_model/logistic.py:433: FutureWarning: Default solver will be changed to 'lbfgs' in 0.22. Specify a solver to silence this warning.\n",
      "  FutureWarning)\n",
      "/Users/flatironschool/anaconda3/lib/python3.6/site-packages/sklearn/linear_model/logistic.py:433: FutureWarning: Default solver will be changed to 'lbfgs' in 0.22. Specify a solver to silence this warning.\n",
      "  FutureWarning)\n"
     ]
    }
   ],
   "source": [
    "from sklearn.model_selection import cross_val_score\n",
    "from sklearn.linear_model import LogisticRegression\n",
    "\n",
    "# instantiating my model\n",
    "logreg = LogisticRegression(fit_intercept = False, C = 1e12)\n",
    "\n",
    "# computing cv score (don't run train_test_split beforehand)\n",
    "scores = cross_val_score(logreg, X, y, cv = 3)\n",
    "\n",
    "# f-1 score\n",
    "scores_f1 = cross_val_score(logreg, X, y, cv = 3, scoring='f1')\n",
    "\n",
    "# r-squared\n",
    "scores_r2 = cross_val_score(logreg, X, y, cv = 3, scoring='r2')\n",
    "\n",
    "# precision\n",
    "scores_precis = cross_val_score(logreg, X, y, cv = 3, scoring='precision')\n",
    "\n",
    "# recall\n",
    "scores_recall = cross_val_score(logreg, X, y, cv = 3, scoring='recall')\n",
    "\n",
    "# negative MSE\n",
    "scores_negMSE = cross_val_score(logreg, X, y, cv = 3, scoring='neg_mean_squared_error')\n"
   ]
  },
  {
   "cell_type": "code",
   "execution_count": 135,
   "metadata": {
    "collapsed": true
   },
   "outputs": [
    {
     "data": {
      "text/plain": [
       "['accuracy',\n",
       " 'adjusted_mutual_info_score',\n",
       " 'adjusted_rand_score',\n",
       " 'average_precision',\n",
       " 'balanced_accuracy',\n",
       " 'brier_score_loss',\n",
       " 'completeness_score',\n",
       " 'explained_variance',\n",
       " 'f1',\n",
       " 'f1_macro',\n",
       " 'f1_micro',\n",
       " 'f1_samples',\n",
       " 'f1_weighted',\n",
       " 'fowlkes_mallows_score',\n",
       " 'homogeneity_score',\n",
       " 'mutual_info_score',\n",
       " 'neg_log_loss',\n",
       " 'neg_mean_absolute_error',\n",
       " 'neg_mean_squared_error',\n",
       " 'neg_mean_squared_log_error',\n",
       " 'neg_median_absolute_error',\n",
       " 'normalized_mutual_info_score',\n",
       " 'precision',\n",
       " 'precision_macro',\n",
       " 'precision_micro',\n",
       " 'precision_samples',\n",
       " 'precision_weighted',\n",
       " 'r2',\n",
       " 'recall',\n",
       " 'recall_macro',\n",
       " 'recall_micro',\n",
       " 'recall_samples',\n",
       " 'recall_weighted',\n",
       " 'roc_auc',\n",
       " 'v_measure_score']"
      ]
     },
     "execution_count": 135,
     "metadata": {},
     "output_type": "execute_result"
    }
   ],
   "source": [
    "import sklearn\n",
    "sorted(sklearn.metrics.SCORERS.keys())"
   ]
  },
  {
   "cell_type": "code",
   "execution_count": 137,
   "metadata": {},
   "outputs": [
    {
     "name": "stdout",
     "output_type": "stream",
     "text": [
      "Accuracy: 0.90 (+/- 0.05)\n",
      "F-1 Score: 0.77 (+/- 0.10)\n",
      "R-Squared: 0.39 (+/- 0.33)\n",
      "Precision: 0.74 (+/- 0.17)\n",
      "Recall: 0.83 (+/- 0.09)\n",
      "Negative MSE: -0.10 (+/- 0.05)\n"
     ]
    }
   ],
   "source": [
    "# The mean score and the 95% confidence interval of the score estimate\n",
    "print(\"Accuracy: %0.2f (+/- %0.2f)\" % (scores.mean(), scores.std() * 2))\n",
    "\n",
    "print(\"F-1 Score: %0.2f (+/- %0.2f)\" % (scores_f1.mean(), scores_f1.std() * 2))\n",
    "\n",
    "print(\"R-Squared: %0.2f (+/- %0.2f)\" % (scores_r2.mean(), scores_r2.std() * 2))\n",
    "\n",
    "print(\"Precision: %0.2f (+/- %0.2f)\" % (scores_precis.mean(), scores_precis.std() * 2))\n",
    "\n",
    "print(\"Recall: %0.2f (+/- %0.2f)\" % (scores_recall.mean(), scores_recall.std() * 2))\n",
    "\n",
    "print(\"Negative MSE: %0.2f (+/- %0.2f)\" % (scores_negMSE.mean(), scores_negMSE.std() * 2))\n"
   ]
  },
  {
   "cell_type": "markdown",
   "metadata": {},
   "source": [
    "## More Evaluating"
   ]
  },
  {
   "cell_type": "code",
   "execution_count": 144,
   "metadata": {},
   "outputs": [
    {
     "name": "stdout",
     "output_type": "stream",
     "text": [
      "Confusion matrix, without normalization\n",
      "[[10712  3759]\n",
      " [ 2021 44773]]\n"
     ]
    },
    {
     "data": {
      "image/png": "[encoded data removed]",
      "text/plain": [
       "<Figure size 432x288 with 2 Axes>"
      ]
     },
     "metadata": {},
     "output_type": "display_data"
    }
   ],
   "source": [
    "from sklearn.metrics import confusion_matrix\n",
    "import itertools\n",
    "\n",
    "def plot_confusion_matrix(cm, classes,\n",
    "                          normalize=False,\n",
    "                          title='Confusion matrix',\n",
    "                          cmap=plt.cm.Blues):\n",
    "    #Add Normalization Option\n",
    "    if normalize:\n",
    "        cm = cm.astype('float') / cm.sum(axis=1)[:, np.newaxis]\n",
    "        print(\"Normalized confusion matrix\")\n",
    "    else:\n",
    "        print('Confusion matrix, without normalization')\n",
    "\n",
    "    print(cm)\n",
    "\n",
    "    plt.imshow(cm, interpolation='nearest', cmap=cmap)\n",
    "    plt.title(title)\n",
    "    plt.colorbar()\n",
    "    tick_marks = np.arange(len(classes))\n",
    "    plt.xticks(tick_marks, classes, rotation=45)\n",
    "    plt.yticks(tick_marks, classes)\n",
    "\n",
    "    fmt = '.2f' if normalize else 'd'\n",
    "    thresh = cm.max() / 2.\n",
    "    for i, j in itertools.product(range(cm.shape[0]), range(cm.shape[1])):\n",
    "        plt.text(j, i, format(cm[i, j], fmt),\n",
    "                 horizontalalignment=\"center\",\n",
    "                 color=\"white\" if cm[i, j] > thresh else \"black\")\n",
    "\n",
    "    plt.tight_layout()\n",
    "    plt.ylabel('True label')\n",
    "    plt.xlabel('Predicted label')\n",
    "    \n",
    "    \n",
    "y_hat_test = logreg.predict(X_test)\n",
    "cnf_matrix = confusion_matrix(y_hat_test, y_test)\n",
    "plot_confusion_matrix(cnf_matrix, classes=[0,1])\n",
    "\n",
    "# here, 0s = no-skin ; 1s = skin\n",
    "# You can see here that our model returned 10,712 true negatives ; 3,759 false positives;\n",
    "# 2,021 false negatives, and 44,773 true positives\n"
   ]
  },
  {
   "cell_type": "markdown",
   "metadata": {},
   "source": [
    "- A confusion matrix can tell us a lot that we can use to evaluate our model.\n",
    "- Common evaluation metrics are precision, recall, accuracy, and f-1 score\n",
    "- Let's calculate all four below."
   ]
  },
  {
   "cell_type": "code",
   "execution_count": 145,
   "metadata": {},
   "outputs": [],
   "source": [
    "# precision = tp / (tp + fp) # out of all our classifications, how many did we predict correctly true or false?\n",
    "# recall = tp / (tp + fn) # out of all positive classifications, how many did we predict correctly?\n",
    "# f-1 score = (2)(recall * precision) / (recall + precision)\n",
    "# accuracy = (tp + tn) / total # observations\n",
    "\n",
    "recall = 44773 / (44773 + 3759) # 96% \n",
    "\n",
    "precision = 44773 / (44773 + 2021) # 92% \n",
    "\n",
    "f1_score = 2* (recall * precision) / (recall + precision) # 94%\n",
    "\n",
    "accuracy = (44773 + 10712) / (10712 + 3759 + 2021 + 44773) # 91%\n",
    "\n",
    "# our accuracy score here is pretty interesting. As you can see, it's the same as our accuracy score on our test data\n",
    "# that we got when we took the difference of the residuals between our actual y value and our predicted y-values\n",
    "# this confirms our confusion matrix way of evaluating our model works!"
   ]
  },
  {
   "cell_type": "markdown",
   "metadata": {},
   "source": [
    "- Even though it's interesting to do the above by hand, we can also use sklearn's classification_report function to see our precision, recall, and f1-score, as we do below.\n",
    "- You can see that our calculations above match the sklearn's calculations for the 1s (the skins classifications, which is what we primarily care about)"
   ]
  },
  {
   "cell_type": "code",
   "execution_count": 146,
   "metadata": {},
   "outputs": [
    {
     "name": "stdout",
     "output_type": "stream",
     "text": [
      "              precision    recall  f1-score   support\n",
      "\n",
      "           0       0.74      0.84      0.79     12733\n",
      "           1       0.96      0.92      0.94     48532\n",
      "\n",
      "   micro avg       0.91      0.91      0.91     61265\n",
      "   macro avg       0.85      0.88      0.86     61265\n",
      "weighted avg       0.91      0.91      0.91     61265\n",
      "\n"
     ]
    }
   ],
   "source": [
    "from sklearn.metrics import classification_report\n",
    "\n",
    "print(classification_report(y_test,y_hat_test))\n"
   ]
  },
  {
   "cell_type": "markdown",
   "metadata": {},
   "source": [
    "- Now this all seems great, our evaluation metrics are high! However, these metrics can be misleading because we don't know whether or not our dataset is *skewed*\n",
    "- Skewed datasets can seem great when simply looking at precision, recall, etc.\n",
    "- For example, if you have a skewed dataset with rare events (such as a disease or winning the lottery) where there is only 2 positive cases in 1000, then even a trivial algorithm that classifies everything as 'not a member' will achieve an accuracy of 99.8% (998 out of 1000 times it was correct). So, that accuracy number will need more context to actually be evaluated as \"good\" or \"bad.\" \n",
    "- This is where ROC-AUC curves come in! We can use these as an alternative means to measure how well our model is performing.\n",
    "- ROC curves are a helpful metric to look at because they measure the true positive rate against the false positive rate."
   ]
  },
  {
   "cell_type": "code",
   "execution_count": 147,
   "metadata": {},
   "outputs": [
    {
     "name": "stderr",
     "output_type": "stream",
     "text": [
      "/Users/flatironschool/anaconda3/lib/python3.6/site-packages/sklearn/linear_model/logistic.py:433: FutureWarning: Default solver will be changed to 'lbfgs' in 0.22. Specify a solver to silence this warning.\n",
      "  FutureWarning)\n"
     ]
    }
   ],
   "source": [
    "from sklearn.metrics import roc_curve, auc\n",
    "\n",
    "# creating ROC curve of our train data\n",
    "y_score_train = logreg.fit(X_train, y_train).decision_function(X_train)\n",
    "\n",
    "# fpr stands for false positive rate, and tpr stands for true positive rate.\n",
    "fpr_train, tpr_train, thresholds = roc_curve(y_train, y_score_train)\n"
   ]
  },
  {
   "cell_type": "code",
   "execution_count": 148,
   "metadata": {},
   "outputs": [
    {
     "name": "stdout",
     "output_type": "stream",
     "text": [
      "AUC: 0.9337460478211796\n"
     ]
    },
    {
     "data": {
      "image/png": "[encoded data removed]",
      "text/plain": [
       "<Figure size 720x576 with 1 Axes>"
      ]
     },
     "metadata": {},
     "output_type": "display_data"
    }
   ],
   "source": [
    "# Graphing ROC curve of train data\n",
    "\n",
    "import matplotlib.pyplot as plt\n",
    "import seaborn as sns\n",
    "\n",
    "\n",
    "#Seaborns Beautiful Styling\n",
    "sns.set_style(\"darkgrid\", {\"axes.facecolor\": \".9\"})\n",
    "\n",
    "# printing AUC info\n",
    "print('AUC: {}'.format(auc(fpr_train, tpr_train)))\n",
    "\n",
    "# plotting the tpr and fpr\n",
    "plt.figure(figsize=(10,8))\n",
    "lw = 2\n",
    "plt.plot(fpr_train, tpr_train, color='darkorange',\n",
    "         lw=lw, label='ROC curve of training data')\n",
    "\n",
    "# aesthetics\n",
    "plt.plot([0, 1], [0, 1], color='navy', lw=lw, linestyle='--')\n",
    "plt.xlim([0.0, 1.0])\n",
    "plt.ylim([0.0, 1.05])\n",
    "plt.yticks([i/20.0 for i in range(21)])\n",
    "plt.xticks([i/20.0 for i in range(21)])\n",
    "plt.xlabel('False Positive Rate')\n",
    "plt.ylabel('True Positive Rate')\n",
    "plt.title('Receiver operating characteristic (ROC) Curve')\n",
    "plt.legend(loc=\"lower right\")\n",
    "plt.show()\n",
    "\n",
    "# AUC is 934"
   ]
  },
  {
   "cell_type": "code",
   "execution_count": 149,
   "metadata": {},
   "outputs": [
    {
     "name": "stderr",
     "output_type": "stream",
     "text": [
      "/Users/flatironschool/anaconda3/lib/python3.6/site-packages/sklearn/linear_model/logistic.py:433: FutureWarning: Default solver will be changed to 'lbfgs' in 0.22. Specify a solver to silence this warning.\n",
      "  FutureWarning)\n"
     ]
    }
   ],
   "source": [
    "# creating ROC curve of our test data\n",
    "y_score_test = logreg.fit(X_train, y_train).decision_function(X_test)\n",
    "\n",
    "# fpr stands for false positive rate, and tpr stands for true positive rate.\n",
    "fpr_test, tpr_test, thresholds = roc_curve(y_test, y_score_test)"
   ]
  },
  {
   "cell_type": "code",
   "execution_count": 150,
   "metadata": {},
   "outputs": [
    {
     "name": "stdout",
     "output_type": "stream",
     "text": [
      "AUC: 0.9324586452933378\n"
     ]
    },
    {
     "data": {
      "image/png": "[encoded data removed]",
      "text/plain": [
       "<Figure size 720x576 with 1 Axes>"
      ]
     },
     "metadata": {},
     "output_type": "display_data"
    }
   ],
   "source": [
    "# Graphing ROC curve of test data\n",
    "\n",
    "import matplotlib.pyplot as plt\n",
    "import seaborn as sns\n",
    "\n",
    "\n",
    "#Seaborns Beautiful Styling\n",
    "sns.set_style(\"darkgrid\", {\"axes.facecolor\": \".9\"})\n",
    "\n",
    "# printing AUC info\n",
    "print('AUC: {}'.format(auc(fpr_test, tpr_test)))\n",
    "\n",
    "# plotting the tpr and fpr\n",
    "plt.figure(figsize=(10,8))\n",
    "lw = 2\n",
    "plt.plot(fpr_test, tpr_test, color='darkorange',\n",
    "         lw=lw, label='ROC curve of test data')\n",
    "\n",
    "# aesthetics\n",
    "plt.plot([0, 1], [0, 1], color='navy', lw=lw, linestyle='--')\n",
    "plt.xlim([0.0, 1.0])\n",
    "plt.ylim([0.0, 1.05])\n",
    "plt.yticks([i/20.0 for i in range(21)])\n",
    "plt.xticks([i/20.0 for i in range(21)])\n",
    "plt.xlabel('False Positive Rate')\n",
    "plt.ylabel('True Positive Rate')\n",
    "plt.title('Receiver operating characteristic (ROC) Curve')\n",
    "plt.legend(loc=\"lower right\")\n",
    "plt.show()\n",
    "\n",
    "# AUC is 932 slightly lowert than our training set."
   ]
  },
  {
   "cell_type": "markdown",
   "metadata": {},
   "source": [
    "- You can see above that both our ROC curves hug the top left of the ROC-AUC graph, which is pretty great.\n",
    "- Our training ROC curve has an AUC of 93.4%, while our test ROC curve has an AUC of 93.2%.\n",
    "- Let's see how balanced or imbalanced our dataset is."
   ]
  },
  {
   "cell_type": "code",
   "execution_count": 157,
   "metadata": {},
   "outputs": [
    {
     "name": "stdout",
     "output_type": "stream",
     "text": [
      "              precision    recall  f1-score   support\n",
      "\n",
      "           0       0.92      0.84      0.88     48547\n",
      "           1       0.85      0.92      0.89     48552\n",
      "\n",
      "   micro avg       0.88      0.88      0.88     97099\n",
      "   macro avg       0.88      0.88      0.88     97099\n",
      "weighted avg       0.88      0.88      0.88     97099\n",
      "\n",
      "              precision    recall  f1-score   support\n",
      "\n",
      "           0       0.92      0.84      0.88    145651\n",
      "           1       0.85      0.92      0.89    145646\n",
      "\n",
      "   micro avg       0.88      0.88      0.88    291297\n",
      "   macro avg       0.88      0.88      0.88    291297\n",
      "weighted avg       0.88      0.88      0.88    291297\n",
      "\n"
     ]
    }
   ],
   "source": [
    "# smote\n",
    "\n",
    "print(classification_report(y_test_smote,y_hat_test_smote))\n",
    "\n",
    "print(classification_report(y_train_smote,y_hat_train_smote))"
   ]
  },
  {
   "cell_type": "markdown",
   "metadata": {},
   "source": [
    "- So interesting! As we can see, our model performed worse after we balanced its weights.\n",
    "- Our original model (with the class imbalance and all) was our best model! "
   ]
  },
  {
   "cell_type": "code",
   "execution_count": 158,
   "metadata": {},
   "outputs": [
    {
     "name": "stdout",
     "output_type": "stream",
     "text": [
      "              precision    recall  f1-score   support\n",
      "\n",
      "           0       0.74      0.84      0.79     12733\n",
      "           1       0.96      0.92      0.94     48532\n",
      "\n",
      "   micro avg       0.91      0.91      0.91     61265\n",
      "   macro avg       0.85      0.88      0.86     61265\n",
      "weighted avg       0.91      0.91      0.91     61265\n",
      "\n",
      "              precision    recall  f1-score   support\n",
      "\n",
      "           0       0.74      0.84      0.79     38126\n",
      "           1       0.96      0.92      0.94    145666\n",
      "\n",
      "   micro avg       0.91      0.91      0.91    183792\n",
      "   macro avg       0.85      0.88      0.86    183792\n",
      "weighted avg       0.91      0.91      0.91    183792\n",
      "\n"
     ]
    }
   ],
   "source": [
    "# original\n",
    "\n",
    "print(classification_report(y_test,y_hat_test))\n",
    "\n",
    "print(classification_report(y_train,y_hat_train))"
   ]
  },
  {
   "cell_type": "markdown",
   "metadata": {},
   "source": [
    "## So what does this all mean? How can we interpret these results?\n",
    "- Well, we can say that our original model was our best performer, and that our classification algorithm is correct in predicted an image as having skin in it (the 1s) 94% of the time (using f1 score here)\n",
    "- While this might sound like a good classification rate, there are myriad ethical issues that come with creating algorithms used for facial recognition. What if our model was going to be used to identify wanted terrorists in a crowd? This is certainly different than recognizing a face for a filter in Snapchat.\n",
    "- If our model were to be used for Snapchat filters, we'd likely want to optimize towards upping our recall score - it's ostensibly better that we mistakenly identify things as faces when they're not faces than only recognize real faces some of the time. \n",
    "- On the other hand, if our model were to be used for spotting wanted criminals in a crowd, we'd likely still want to optimize towards recall, but the consequences would be vastly different. Is it worth bringing innocent people in for questioning and potentially violating their rights if it meant that you'd catch wanted criminals almost 100% of the time? Perhaps not."
   ]
  },
  {
   "cell_type": "code",
   "execution_count": null,
   "metadata": {},
   "outputs": [],
   "source": []
  }
 ],
 "metadata": {
  "kernelspec": {
   "display_name": "Python 3",
   "language": "python",
   "name": "python3"
  },
  "language_info": {
   "codemirror_mode": {
    "name": "ipython",
    "version": 3
   },
   "file_extension": ".py",
   "mimetype": "text/x-python",
   "name": "python",
   "nbconvert_exporter": "python",
   "pygments_lexer": "ipython3",
   "version": "3.6.5"
  }
 },
 "nbformat": 4,
 "nbformat_minor": 2
}
